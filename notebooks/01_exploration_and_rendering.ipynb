{
 "cells": [
  {
   "cell_type": "code",
   "execution_count": 2,
   "id": "aae46597-4feb-4ca0-bcca-152c4d44d727",
   "metadata": {},
   "outputs": [
    {
     "name": "stderr",
     "output_type": "stream",
     "text": [
      "/tmp/ipykernel_2010964/1408266182.py:15: DeprecationWarning: Please import `csc_matrix` from the `scipy.sparse` namespace; the `scipy.sparse.csc` namespace is deprecated and will be removed in SciPy 2.0.0.\n",
      "  flame_model = pickle.load(f, encoding='latin1')\n"
     ]
    },
    {
     "ename": "ModuleNotFoundError",
     "evalue": "No module named 'chumpy'",
     "output_type": "error",
     "traceback": [
      "\u001b[0;31m---------------------------------------------------------------------------\u001b[0m",
      "\u001b[0;31mModuleNotFoundError\u001b[0m                       Traceback (most recent call last)",
      "Cell \u001b[0;32mIn[2], line 15\u001b[0m\n\u001b[1;32m     12\u001b[0m \u001b[38;5;28;01mtry\u001b[39;00m:\n\u001b[1;32m     13\u001b[0m     \u001b[38;5;66;03m# Load the model using pickle\u001b[39;00m\n\u001b[1;32m     14\u001b[0m     \u001b[38;5;28;01mwith\u001b[39;00m \u001b[38;5;28mopen\u001b[39m(flame_model_path, \u001b[38;5;124m'\u001b[39m\u001b[38;5;124mrb\u001b[39m\u001b[38;5;124m'\u001b[39m) \u001b[38;5;28;01mas\u001b[39;00m f:\n\u001b[0;32m---> 15\u001b[0m         flame_model \u001b[38;5;241m=\u001b[39m \u001b[43mpickle\u001b[49m\u001b[38;5;241;43m.\u001b[39;49m\u001b[43mload\u001b[49m\u001b[43m(\u001b[49m\u001b[43mf\u001b[49m\u001b[43m,\u001b[49m\u001b[43m \u001b[49m\u001b[43mencoding\u001b[49m\u001b[38;5;241;43m=\u001b[39;49m\u001b[38;5;124;43m'\u001b[39;49m\u001b[38;5;124;43mlatin1\u001b[39;49m\u001b[38;5;124;43m'\u001b[39;49m\u001b[43m)\u001b[49m\n\u001b[1;32m     16\u001b[0m     \u001b[38;5;28mprint\u001b[39m(\u001b[38;5;124m\"\u001b[39m\u001b[38;5;124mFLAME 2023 model loaded successfully.\u001b[39m\u001b[38;5;124m\"\u001b[39m)\n\u001b[1;32m     17\u001b[0m \u001b[38;5;28;01mexcept\u001b[39;00m \u001b[38;5;167;01mFileNotFoundError\u001b[39;00m:\n",
      "\u001b[0;31mModuleNotFoundError\u001b[0m: No module named 'chumpy'"
     ]
    }
   ],
   "source": [
    "# Part A (New Version for FLAME)\n",
    "\n",
    "import torch\n",
    "import numpy as np\n",
    "import pickle # Use the pickle library for .pkl files\n",
    "import matplotlib.pyplot as plt\n",
    "import chumpy # Explicitly import chumpy to test availability\n",
    "\n",
    "# --- 1. Define the path to your FLAME model file ---\n",
    "# This should point to the .pkl model file (e.g., flame2023.pkl)\n",
    "flame_model_path = '../data/flame_model/flame2023.pkl' \n",
    "\n",
    "flame_model = None      # Initialize to None\n",
    "mean_shape = None       # Initialize\n",
    "triangles = None        # Initialize\n",
    "num_vertices = 0      # Initialize\n",
    "num_triangles = 0     # Initialize\n",
    "\n",
    "try:\n",
    "    # Load the model using pickle for .pkl files\n",
    "    with open(flame_model_path, 'rb') as f:\n",
    "        flame_model = pickle.load(f, encoding='latin1')\n",
    "    print(f\"FLAME 2023 model loaded successfully from {flame_model_path}.\")\n",
    "except FileNotFoundError:\n",
    "    print(f\"ERROR: FLAME model not found at {flame_model_path}. Please check the path and README instructions.\")\n",
    "except Exception as e: # Catch other potential errors during pickle loading, e.g., chumpy issues if not installed\n",
    "    print(f\"ERROR: Could not load FLAME model from {flame_model_path}. Error: {e}. Ensure 'chumpy' is installed if using .pkl files.\")\n",
    "\n",
    "\n",
    "# --- 2. Extract and Prepare Key Components ---\n",
    "# Ensure the model data was loaded before proceeding\n",
    "if flame_model is not None:\n",
    "    # v_template is the average face shape (the equivalent of BFM's shapeMU)\n",
    "    # For FLAME .pkl, 'v_template' is often a chumpy object, need .r to get numpy array\n",
    "    if hasattr(flame_model['v_template'], 'r'): # Check if it's a chumpy object with .r attribute\n",
    "        shape_data = flame_model['v_template'].r\n",
    "    else:\n",
    "        shape_data = flame_model['v_template'] # Assume it's already a numpy array\n",
    "    mean_shape = torch.from_numpy(shape_data).float()\n",
    "\n",
    "    # f contains the face triangles (the equivalent of BFM's tl)\n",
    "    # It's already 0-indexed, so we don't need to subtract 1\n",
    "    # Ensure 'f' is of integer type for PyTorch3D faces\n",
    "    triangles = torch.from_numpy(flame_model['f'].astype(np.int64))\n",
    "\n",
    "    # Get the number of vertices and faces\n",
    "    num_vertices = mean_shape.shape[0]\n",
    "    num_triangles = triangles.shape[0]\n",
    "    print(f\"Data parsed: {num_vertices} vertices, {num_triangles} triangles.\")\n",
    "else:\n",
    "    # Handle the case where model loading failed by creating dummy tensors\n",
    "    # This allows the rest of the notebook to run without crashing, though rendering will be meaningless.\n",
    "    print(\"FLAME model data not loaded. Using placeholder data for subsequent cells.\")\n",
    "    mean_shape = torch.zeros((10, 3), dtype=torch.float32) # Dummy shape\n",
    "    triangles = torch.zeros((5, 3), dtype=torch.int64)    # Dummy triangles\n",
    "    num_vertices = mean_shape.shape[0]\n",
    "    num_triangles = triangles.shape[0]\n",
    "\n",
    "# --- 3. Create a Generic Texture ---\n",
    "# The base FLAME model doesn't come with a mean texture map like BFM.\n",
    "# We will create a simple, uniform gray color for now.\n",
    "# The goal is to confirm the SHAPE is rendering correctly.\n",
    "# We create one color (e.g., gray) and repeat it for all vertices.\n",
    "generic_color = torch.tensor([0.7, 0.7, 0.7]) # A nice medium gray\n",
    "vertex_colors = generic_color.view(1, 3).expand(num_vertices, 3)"
   ]
  },
  {
   "cell_type": "code",
   "execution_count": null,
   "id": "d17441e7-f7f3-453f-a150-b94405f62d4f",
   "metadata": {},
   "outputs": [],
   "source": [
    "# Part B (New Version for FLAME)\n",
    "\n",
    "from pytorch3d.structures import Meshes\n",
    "\n",
    "# We use our new variables to create the mesh.\n",
    "# The texture is now our generic gray color per vertex.\n",
    "# We need to add a batch dimension for PyTorch3D -> (1, num_vertices, 3)\n",
    "verts_rgb = vertex_colors.unsqueeze(0)\n",
    "textures = verts_rgb\n",
    "\n",
    "# Create the Meshes object\n",
    "average_face_mesh = Meshes(\n",
    "    verts=[mean_shape], # Use the mean_shape directly\n",
    "    faces=[triangles],\n",
    "    textures=textures\n",
    ")\n",
    "print(\"PyTorch3D Meshes object created with FLAME 2023 model.\")"
   ]
  },
  {
   "cell_type": "code",
   "execution_count": 1,
   "id": "25dfdc40-c7d5-49d9-88b3-8e0c431e10f9",
   "metadata": {},
   "outputs": [
    {
     "ename": "NameError",
     "evalue": "name 'torch' is not defined",
     "output_type": "error",
     "traceback": [
      "\u001b[0;31m---------------------------------------------------------------------------\u001b[0m",
      "\u001b[0;31mNameError\u001b[0m                                 Traceback (most recent call last)",
      "Cell \u001b[0;32mIn[1], line 7\u001b[0m\n\u001b[1;32m      1\u001b[0m \u001b[38;5;28;01mfrom\u001b[39;00m\u001b[38;5;250m \u001b[39m\u001b[38;5;21;01mpytorch3d\u001b[39;00m\u001b[38;5;21;01m.\u001b[39;00m\u001b[38;5;21;01mrenderer\u001b[39;00m\u001b[38;5;250m \u001b[39m\u001b[38;5;28;01mimport\u001b[39;00m (\n\u001b[1;32m      2\u001b[0m     look_at_view_transform, FoVPerspectiveCameras, PointLights, RasterizationSettings,\n\u001b[1;32m      3\u001b[0m     MeshRenderer, MeshRasterizer, SoftPhongShader\n\u001b[1;32m      4\u001b[0m )\n\u001b[1;32m      6\u001b[0m \u001b[38;5;66;03m# --- Select a device ---\u001b[39;00m\n\u001b[0;32m----> 7\u001b[0m \u001b[38;5;28;01mif\u001b[39;00m \u001b[43mtorch\u001b[49m\u001b[38;5;241m.\u001b[39mcuda\u001b[38;5;241m.\u001b[39mis_available():\n\u001b[1;32m      8\u001b[0m     device \u001b[38;5;241m=\u001b[39m torch\u001b[38;5;241m.\u001b[39mdevice(\u001b[38;5;124m\"\u001b[39m\u001b[38;5;124mcuda:0\u001b[39m\u001b[38;5;124m\"\u001b[39m)\n\u001b[1;32m      9\u001b[0m     torch\u001b[38;5;241m.\u001b[39mcuda\u001b[38;5;241m.\u001b[39mset_device(device)\n",
      "\u001b[0;31mNameError\u001b[0m: name 'torch' is not defined"
     ]
    }
   ],
   "source": [
    "import torch # Ensure torch is imported in this cell\n",
    "import matplotlib.pyplot as plt # Ensure plt is imported in this cell\n",
    "from pytorch3d.renderer import (\n",
    "    look_at_view_transform, FoVPerspectiveCameras, PointLights, RasterizationSettings,\n",
    "    MeshRenderer, MeshRasterizer, SoftPhongShader\n",
    ")\n",
    "\n",
    "# --- Select a device ---\n",
    "if torch.cuda.is_available():\n",
    "    device = torch.device(\"cuda:0\")\n",
    "    torch.cuda.set_device(device)\n",
    "else:\n",
    "    device = torch.device(\"cpu\")\n",
    "print(f\"Using device: {device}\")\n",
    "\n",
    "# --- Set up the renderer (camera, lights, etc.) ---\n",
    "R, T = look_at_view_transform(dist=2.7, elev=0, azim=0)\n",
    "cameras = FoVPerspectiveCameras(device=device, R=R, T=T)\n",
    "raster_settings = RasterizationSettings(image_size=512, blur_radius=0.0, faces_per_pixel=1)\n",
    "lights = PointLights(device=device, location=[[0.0, 0.0, 3.0]])\n",
    "shader = SoftPhongShader(device=device, cameras=cameras, lights=lights)\n",
    "\n",
    "renderer = MeshRenderer(\n",
    "    rasterizer=MeshRasterizer(cameras=cameras, raster_settings=raster_settings),\n",
    "    shader=shader\n",
    ")\n",
    "\n",
    "# --- Move mesh to the correct device and render! ---\n",
    "average_face_mesh = average_face_mesh.to(device)\n",
    "images = renderer(average_face_mesh)\n",
    "\n",
    "# --- Visualize the output ---\n",
    "plt.figure(figsize=(8, 8))\n",
    "plt.imshow(images[0, ..., :3].cpu().numpy())\n",
    "plt.axis(\"off\")\n",
    "plt.title(\"Success! The Rendered Average Face\")\n",
    "plt.show()"
   ]
  },
  {
   "cell_type": "code",
   "execution_count": null,
   "id": "34b8a978-04ab-4be0-a380-0fb620970cbd",
   "metadata": {},
   "outputs": [],
   "source": []
  }
 ],
 "metadata": {
  "kernelspec": {
   "display_name": "Python 3 (ipykernel)",
   "language": "python",
   "name": "python3"
  },
  "language_info": {
   "codemirror_mode": {
    "name": "ipython",
    "version": 3
   },
   "file_extension": ".py",
   "mimetype": "text/x-python",
   "name": "python",
   "nbconvert_exporter": "python",
   "pygments_lexer": "ipython3",
   "version": "3.10.13"
  }
 },
 "nbformat": 4,
 "nbformat_minor": 5
}
