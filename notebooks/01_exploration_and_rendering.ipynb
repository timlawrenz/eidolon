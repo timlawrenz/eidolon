{
 "cells": [
  {
   "cell_type": "code",
   "execution_count": null,
   "id": "aae46597-4feb-4ca0-bcca-152c4d44d727",
   "metadata": {},
   "outputs": [],
   "source": [
    "# Part A (New Version for FLAME)\n",
    "\n",
    "import torch\n",
    "import numpy as np\n",
    "import pickle # Use the pickle library for .pkl files\n",
    "import matplotlib.pyplot as plt\n",
    "\n",
    "# --- 1. Define the path to your FLAME model file ---\n",
    "# UPDATE THIS PATH to the actual .pkl file you found\n",
    "flame_model_path = '../data/flame_model/flame2023.pkl' \n",
    "\n",
    "try:\n",
    "    # Load the model using pickle\n",
    "    with open(flame_model_path, 'rb') as f:\n",
    "        flame_model = pickle.load(f, encoding='latin1')\n",
    "    print(\"FLAME 2023 model loaded successfully.\")\n",
    "except FileNotFoundError:\n",
    "    print(f\"ERROR: FLAME model not found at {flame_model_path}\")\n",
    "\n",
    "# --- 2. Extract and Prepare Key Components ---\n",
    "# The keys in the FLAME model dictionary are different from BFM's\n",
    "# v_template is the average face shape (the equivalent of BFM's shapeMU)\n",
    "mean_shape = torch.from_numpy(flame_model['v_template']).float()\n",
    "\n",
    "# f contains the face triangles (the equivalent of BFM's tl)\n",
    "# It's already 0-indexed, so we don't need to subtract 1\n",
    "triangles = torch.from_numpy(flame_model['f'].astype(np.int64))\n",
    "\n",
    "# Get the number of vertices and faces\n",
    "num_vertices = mean_shape.shape[0]\n",
    "num_triangles = triangles.shape[0]\n",
    "print(f\"Data parsed: {num_vertices} vertices, {num_triangles} triangles.\")\n",
    "\n",
    "# --- 3. Create a Generic Texture ---\n",
    "# The base FLAME model doesn't come with a mean texture map like BFM.\n",
    "# We will create a simple, uniform gray color for now.\n",
    "# The goal is to confirm the SHAPE is rendering correctly.\n",
    "# We create one color (e.g., gray) and repeat it for all vertices.\n",
    "generic_color = torch.tensor([0.7, 0.7, 0.7]) # A nice medium gray\n",
    "vertex_colors = generic_color.view(1, 3).expand(num_vertices, 3)"
   ]
  }
 ],
 "metadata": {
  "kernelspec": {
   "display_name": "Python 3 (ipykernel)",
   "language": "python",
   "name": "python3"
  },
  "language_info": {
   "codemirror_mode": {
    "name": "ipython",
    "version": 3
   },
   "file_extension": ".py",
   "mimetype": "text/x-python",
   "name": "python",
   "nbconvert_exporter": "python",
   "pygments_lexer": "ipython3",
   "version": "3.10.13"
  }
 },
 "nbformat": 4,
 "nbformat_minor": 5
}
